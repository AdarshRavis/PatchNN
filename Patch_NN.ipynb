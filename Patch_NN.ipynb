{
  "nbformat": 4,
  "nbformat_minor": 0,
  "metadata": {
    "colab": {
      "name": "Copy of Patch_NN_14.ipynb",
      "provenance": [],
      "collapsed_sections": [
        "0PkUdrUl88Cv"
      ],
      "machine_shape": "hm",
      "mount_file_id": "188iWuhj-ixtsdv_ZxJhc5bOaYdRkYuTj",
      "authorship_tag": "ABX9TyOCJCWj8vP5GT98A1ScZ+9h",
      "include_colab_link": true
    },
    "kernelspec": {
      "name": "python3",
      "display_name": "Python 3"
    },
    "language_info": {
      "name": "python"
    }
  },
  "cells": [
    {
      "cell_type": "markdown",
      "metadata": {
        "id": "view-in-github",
        "colab_type": "text"
      },
      "source": [
        "<a href=\"https://colab.research.google.com/github/AdarshRavis/PatchNN/blob/main/Patch_NN.ipynb\" target=\"_parent\"><img src=\"https://colab.research.google.com/assets/colab-badge.svg\" alt=\"Open In Colab\"/></a>"
      ]
    },
    {
      "cell_type": "markdown",
      "metadata": {
        "id": "0PkUdrUl88Cv"
      },
      "source": [
        "## **Setting Up**"
      ]
    },
    {
      "cell_type": "code",
      "metadata": {
        "id": "eV3awj5Q8mUf"
      },
      "source": [
        "%matplotlib inline\n",
        "import matplotlib.pyplot as plt\n",
        "import numpy as np\n",
        "import pandas as pd\n",
        "import os\n",
        "from glob import glob\n",
        "import seaborn as sns\n",
        "from PIL import Image\n",
        "np.random.seed(123)\n",
        "from sklearn.preprocessing import label_binarize\n",
        "from sklearn.metrics import confusion_matrix\n",
        "import itertools\n",
        "\n",
        "import keras\n",
        "from keras.utils.np_utils import to_categorical # used for converting labels to one-hot-encoding\n",
        "from keras.models import Sequential\n",
        "from keras.layers import Activation, Dense, Dropout, Flatten, Conv2D, MaxPooling2D, MaxPool2D\n",
        "from keras import backend as K\n",
        "import itertools\n",
        "from keras.layers.normalization import BatchNormalization\n",
        "#from keras.utils.np_utils import to_categorical # convert to one-hot-encoding\n",
        "from keras.optimizers import Adam\n",
        "from keras.preprocessing.image import ImageDataGenerator\n",
        "from keras.callbacks import ReduceLROnPlateau\n",
        "\n",
        "from sklearn.model_selection import train_test_split\n",
        "from sklearn.utils import shuffle\n",
        "\n",
        "\n",
        "import seaborn\n",
        "\n",
        "\n",
        "from keras.utils.data_utils import Sequence\n",
        "from imblearn.over_sampling import RandomOverSampler\n",
        "from sklearn.utils import resample\n",
        "\n",
        "import cv2"
      ],
      "execution_count": null,
      "outputs": []
    },
    {
      "cell_type": "code",
      "metadata": {
        "id": "XhVpWv5E8oY1"
      },
      "source": [
        "skin_df = pd.read_pickle('DATA.pkl')\n",
        "skin_df.head()"
      ],
      "execution_count": null,
      "outputs": []
    },
    {
      "cell_type": "markdown",
      "metadata": {
        "id": "rRTXgRaf9J1W"
      },
      "source": [
        "## **Balancing the Dataset**"
      ]
    },
    {
      "cell_type": "code",
      "metadata": {
        "colab": {
          "base_uri": "https://localhost:8080/"
        },
        "id": "XPoJjNj49Lwv",
        "outputId": "8ec08839-0bb6-46bc-9d9d-06b8cecfde2a"
      },
      "source": [
        "df_0 = skin_df[skin_df['ReactBin'] == 0]\n",
        "df_1 = skin_df[skin_df['ReactBin'] == 1]\n",
        "print('There are',df_0.shape[0],'patches with NO REACTION')\n",
        "print('there are',df_1.shape[0],'patches with REACTION')"
      ],
      "execution_count": null,
      "outputs": [
        {
          "output_type": "stream",
          "text": [
            "There are 13194 patches with NO REACTION\n",
            "there are 428 patches with REACTION\n"
          ],
          "name": "stdout"
        }
      ]
    },
    {
      "cell_type": "code",
      "metadata": {
        "colab": {
          "base_uri": "https://localhost:8080/"
        },
        "id": "9ODVJdq09Mx_",
        "outputId": "edbbdd6a-faa7-497d-8e10-36ee5aa7f45c"
      },
      "source": [
        "df_0_shuffled = shuffle(df_0, random_state=123)\n",
        "df_1_shuffled = shuffle(df_1, random_state=123)\n",
        "print('df_0 and df_1 are now shuffled')"
      ],
      "execution_count": null,
      "outputs": [
        {
          "output_type": "stream",
          "text": [
            "df_0 and df_1 are now shuffled\n"
          ],
          "name": "stdout"
        }
      ]
    },
    {
      "cell_type": "code",
      "metadata": {
        "colab": {
          "base_uri": "https://localhost:8080/"
        },
        "id": "v0xzL1059N-d",
        "outputId": "8aef5b5a-a544-48c9-d202-baf79bea11e9"
      },
      "source": [
        "df_0_train_orig, df_0_test = train_test_split(df_0_shuffled, test_size=0.2, random_state = 123)\n",
        "df_0_train, df_0_validate = train_test_split(df_0_train_orig, test_size=0.25, random_state = 123)\n",
        "df_1_train_orig, df_1_test = train_test_split(df_1_shuffled, test_size=0.2, random_state = 123)\n",
        "df_1_train, df_1_validate = train_test_split(df_1_train_orig, test_size=0.25, random_state = 123)\n",
        "\n",
        "print('df_0_train has',df_0_train.shape[0],'patches')\n",
        "print('df_0_validate has',df_0_validate.shape[0],'patches')\n",
        "print('df_0_test has',df_0_test.shape[0],'patches')\n",
        "print('In total, df_0 has',df_0_train.shape[0]+df_0_validate.shape[0]+df_0_test.shape[0], 'negative patches')\n",
        "print('\\n')\n",
        "print('df_1_train has',df_1_train.shape[0],'patches')\n",
        "print('df_1_validate has',df_1_validate.shape[0],'patches')\n",
        "print('df_1_test has',df_1_test.shape[0],'patches')\n",
        "print('In total, df_1 has',df_1_train.shape[0]+df_1_validate.shape[0]+df_1_test.shape[0], 'positive patches')"
      ],
      "execution_count": null,
      "outputs": [
        {
          "output_type": "stream",
          "text": [
            "df_0_train has 7916 patches\n",
            "df_0_validate has 2639 patches\n",
            "df_0_test has 2639 patches\n",
            "In total, df_0 has 13194 negative patches\n",
            "\n",
            "\n",
            "df_1_train has 256 patches\n",
            "df_1_validate has 86 patches\n",
            "df_1_test has 86 patches\n",
            "In total, df_1 has 428 positive patches\n"
          ],
          "name": "stdout"
        }
      ]
    },
    {
      "cell_type": "code",
      "metadata": {
        "colab": {
          "base_uri": "https://localhost:8080/"
        },
        "id": "gaUnJYOU9QIA",
        "outputId": "db5e1d78-e926-4f95-866d-9b547766c4c7"
      },
      "source": [
        "df_1_train_resampled = resample(df_1_train, replace=True, n_samples=df_0_train.shape[0], random_state=123)\n",
        "df_1_validate_resampled = resample(df_1_validate, replace=True, n_samples=df_0_validate.shape[0], random_state=123) \n",
        "df_1_test_resampled = resample(df_1_test, replace=True, n_samples=df_0_test.shape[0], random_state=123)\n",
        "\n",
        "print('We have now resampled the positive patch data to equal that of the negative patch data')\n",
        "print('df_1_train_resampled has',df_1_train_resampled.shape[0],'positive patches')\n",
        "print('df_1_validate_resampled has',df_1_validate_resampled.shape[0],'positive patches')\n",
        "print('df_1_test_resampled has',df_1_test_resampled.shape[0],'positive patches')"
      ],
      "execution_count": null,
      "outputs": [
        {
          "output_type": "stream",
          "text": [
            "We have now resampled the positive patch data to equal that of the negative patch data\n",
            "df_1_train_resampled has 7916 positive patches\n",
            "df_1_validate_resampled has 2639 positive patches\n",
            "df_1_test_resampled has 2639 positive patches\n"
          ],
          "name": "stdout"
        }
      ]
    },
    {
      "cell_type": "code",
      "metadata": {
        "colab": {
          "base_uri": "https://localhost:8080/"
        },
        "id": "FuwjeuVZ9RTo",
        "outputId": "6b6a21a4-b236-4f61-893e-207f265b2b80"
      },
      "source": [
        "df_train_balanced = pd.concat([df_0_train, df_1_train_resampled])\n",
        "df_validate_balanced = pd.concat([df_0_validate, df_1_validate_resampled])\n",
        "df_test_balanced = pd.concat([df_0_test, df_1_test])\n",
        "print('We have now concatenated the train, validate, and test datasets!')"
      ],
      "execution_count": null,
      "outputs": [
        {
          "output_type": "stream",
          "text": [
            "We have now concatenated the train, validate, and test datasets!\n"
          ],
          "name": "stdout"
        }
      ]
    },
    {
      "cell_type": "markdown",
      "metadata": {
        "id": "HcE51fn89SV0"
      },
      "source": [
        "## **Normalizing Images**"
      ]
    },
    {
      "cell_type": "code",
      "metadata": {
        "id": "b9uBUTa09V6H"
      },
      "source": [
        "datagen = ImageDataGenerator(\n",
        "        featurewise_center=False,  # set input mean to 0 over the dataset\n",
        "        samplewise_center=False,  # set each sample mean to 0\n",
        "        featurewise_std_normalization=False,  # divide inputs by std of the dataset\n",
        "        samplewise_std_normalization=False,  # divide each input by its std\n",
        "        zca_whitening=False,  # apply ZCA whitening\n",
        "        rotation_range=10,  # randomly rotate images in the range (degrees, 0 to 180)\n",
        "        zoom_range = 0.1, # Randomly zoom image \n",
        "        width_shift_range=0.2,  # randomly shift images horizontally (fraction of total width)\n",
        "        height_shift_range=0.2,  # randomly shift images vertically (fraction of total height)\n",
        "        horizontal_flip=True,  # randomly flip images\n",
        "        vertical_flip=True)  # randomly flip images"
      ],
      "execution_count": null,
      "outputs": []
    },
    {
      "cell_type": "code",
      "metadata": {
        "id": "eChknNr49Xrl"
      },
      "source": [
        "X_train =df_train_balanced.drop(columns=['ReactBin'],axis=1)\n",
        "X_validate =df_validate_balanced.drop(columns=['ReactBin'],axis=1)\n",
        "X_test =df_test_balanced.drop(columns=['ReactBin'],axis=1)\n",
        "y_train =df_train_balanced['ReactBin']\n",
        "y_validate =df_validate_balanced['ReactBin']\n",
        "y_test =df_test_balanced['ReactBin']\n",
        "\n",
        "X_train = np.asarray(X_train['image'].tolist())\n",
        "X_validate = np.asarray(X_validate['image'].tolist())\n",
        "X_test = np.asarray(X_test['image'].tolist())\n",
        "\n",
        "X_train = X_train/255\n",
        "X_validate = X_validate/255\n",
        "X_test = X_test/255\n",
        "\n",
        "X_train = X_train.reshape(X_train.shape[0], *(100, 100, 3))\n",
        "X_test = X_test.reshape(X_test.shape[0], *(100, 100, 3))\n",
        "X_validate = X_validate.reshape(X_validate.shape[0], *(100, 100, 3))"
      ],
      "execution_count": null,
      "outputs": []
    },
    {
      "cell_type": "code",
      "metadata": {
        "id": "s1SpzBG49ZX_"
      },
      "source": [
        "datagen.fit(X_train)\n",
        "datagen.fit(X_validate)\n",
        "datagen.fit(X_test)"
      ],
      "execution_count": null,
      "outputs": []
    },
    {
      "cell_type": "markdown",
      "metadata": {
        "id": "51mFkAE49chT"
      },
      "source": [
        "## **Building the Model**"
      ]
    },
    {
      "cell_type": "code",
      "metadata": {
        "colab": {
          "base_uri": "https://localhost:8080/"
        },
        "id": "_3FgFnpR9eES",
        "outputId": "c17a85d6-bfc4-40d3-fc6f-ebbf1c4f5e59"
      },
      "source": [
        "input_shape = (100, 100, 3)\n",
        "num_classes = 2\n",
        "\n",
        "model = Sequential()\n",
        "model.add(Conv2D(32, (3, 3), input_shape=input_shape))\n",
        "model.add(Activation('relu'))\n",
        "model.add(MaxPooling2D(pool_size=(2, 2)))\n",
        "\n",
        "model.add(Conv2D(32, (3, 3), kernel_initializer = 'he_uniform'))\n",
        "model.add(Activation('relu'))\n",
        "model.add(MaxPooling2D(pool_size=(2, 2)))\n",
        "\n",
        "model.add(Conv2D(64, (3, 3), kernel_initializer = 'he_uniform'))\n",
        "model.add(Activation('relu'))\n",
        "model.add(MaxPooling2D(pool_size=(2, 2)))\n",
        "\n",
        "model.add(Flatten())\n",
        "model.add(Dense(64))\n",
        "model.add(Activation('relu'))\n",
        "model.add(Dropout(0.5))\n",
        "\n",
        "model.add(Dense(1))\n",
        "model.add(Activation('sigmoid'))  \n",
        "\n",
        "\n",
        "model.summary()"
      ],
      "execution_count": null,
      "outputs": [
        {
          "output_type": "stream",
          "text": [
            "Model: \"sequential\"\n",
            "_________________________________________________________________\n",
            "Layer (type)                 Output Shape              Param #   \n",
            "=================================================================\n",
            "conv2d (Conv2D)              (None, 98, 98, 32)        896       \n",
            "_________________________________________________________________\n",
            "activation (Activation)      (None, 98, 98, 32)        0         \n",
            "_________________________________________________________________\n",
            "max_pooling2d (MaxPooling2D) (None, 49, 49, 32)        0         \n",
            "_________________________________________________________________\n",
            "conv2d_1 (Conv2D)            (None, 47, 47, 32)        9248      \n",
            "_________________________________________________________________\n",
            "activation_1 (Activation)    (None, 47, 47, 32)        0         \n",
            "_________________________________________________________________\n",
            "max_pooling2d_1 (MaxPooling2 (None, 23, 23, 32)        0         \n",
            "_________________________________________________________________\n",
            "conv2d_2 (Conv2D)            (None, 21, 21, 64)        18496     \n",
            "_________________________________________________________________\n",
            "activation_2 (Activation)    (None, 21, 21, 64)        0         \n",
            "_________________________________________________________________\n",
            "max_pooling2d_2 (MaxPooling2 (None, 10, 10, 64)        0         \n",
            "_________________________________________________________________\n",
            "flatten (Flatten)            (None, 6400)              0         \n",
            "_________________________________________________________________\n",
            "dense (Dense)                (None, 64)                409664    \n",
            "_________________________________________________________________\n",
            "activation_3 (Activation)    (None, 64)                0         \n",
            "_________________________________________________________________\n",
            "dropout (Dropout)            (None, 64)                0         \n",
            "_________________________________________________________________\n",
            "dense_1 (Dense)              (None, 1)                 65        \n",
            "_________________________________________________________________\n",
            "activation_4 (Activation)    (None, 1)                 0         \n",
            "=================================================================\n",
            "Total params: 438,369\n",
            "Trainable params: 438,369\n",
            "Non-trainable params: 0\n",
            "_________________________________________________________________\n"
          ],
          "name": "stdout"
        }
      ]
    },
    {
      "cell_type": "code",
      "metadata": {
        "id": "BpZkHblN9fwc"
      },
      "source": [
        "optimizer = Adam(learning_rate=0.001, beta_1=0.9, beta_2=0.999, epsilon=None, decay=0.0, amsgrad=False)"
      ],
      "execution_count": null,
      "outputs": []
    },
    {
      "cell_type": "code",
      "metadata": {
        "id": "pgYU9IkV9hfA"
      },
      "source": [
        "model.compile(optimizer = optimizer , loss = \"binary_crossentropy\", metrics=[\"binary_accuracy\"])"
      ],
      "execution_count": null,
      "outputs": []
    },
    {
      "cell_type": "code",
      "metadata": {
        "id": "dqOqR3um9ikP"
      },
      "source": [
        "epochs = 200\n",
        "batch_size = 64"
      ],
      "execution_count": null,
      "outputs": []
    },
    {
      "cell_type": "code",
      "metadata": {
        "id": "QGuefyPi9kxn"
      },
      "source": [
        "history = model.fit_generator(datagen.flow(X_train,y_train, batch_size=batch_size),\n",
        "                              epochs = epochs, validation_data = (X_validate,y_validate),\n",
        "                              verbose = 2, steps_per_epoch=X_train.shape[0] // batch_size\n",
        "                              )"
      ],
      "execution_count": null,
      "outputs": []
    },
    {
      "cell_type": "code",
      "metadata": {
        "id": "IZHGSRXQ9mfO"
      },
      "source": [
        "# Uncomment when you want to save!\n",
        "# model.save('saved_model.h5')"
      ],
      "execution_count": null,
      "outputs": []
    },
    {
      "cell_type": "markdown",
      "metadata": {
        "id": "bwczZTrK9nAI"
      },
      "source": [
        "## **Visualizing the Results**"
      ]
    },
    {
      "cell_type": "code",
      "metadata": {
        "id": "y6C0CUPj9pLN"
      },
      "source": [
        "model = keras.models.load_model('/content/drive/My Drive/Patch_NN/TestPatch_20210525_1.h5')"
      ],
      "execution_count": null,
      "outputs": []
    },
    {
      "cell_type": "code",
      "metadata": {
        "id": "ORCO7Xyb9q-j"
      },
      "source": [
        "def plot_model_history(model_history):\n",
        "    fig, axs = plt.subplots(1,2,figsize=(15,5))\n",
        "    # summarize history for accuracy\n",
        "    axs[0].plot(range(1,len(model_history.history['binary_accuracy'])+1),model_history.history['binary_accuracy'])\n",
        "    axs[0].plot(range(1,len(model_history.history['val_binary_accuracy'])+1),model_history.history['val_binary_accuracy'])\n",
        "    axs[0].set_title('Model Accuracy')\n",
        "    axs[0].set_ylabel('Accuracy')\n",
        "    axs[0].set_xlabel('Epoch')\n",
        "    axs[0].set_xticks(np.arange(1,len(model_history.history['binary_accuracy'])+1),len(model_history.history['binary_accuracy'])/10)\n",
        "    axs[0].legend(['train', 'val'], loc='best')\n",
        "    # summarize history for loss\n",
        "    axs[1].plot(range(1,len(model_history.history['loss'])+1),model_history.history['loss'])\n",
        "    axs[1].plot(range(1,len(model_history.history['val_loss'])+1),model_history.history['val_loss'])\n",
        "    axs[1].set_title('Model Loss')\n",
        "    axs[1].set_ylabel('Loss')\n",
        "    axs[1].set_xlabel('Epoch')\n",
        "    axs[1].set_xticks(np.arange(1,len(model_history.history['loss'])+1),len(model_history.history['loss'])/10)\n",
        "    axs[1].legend(['train', 'val'], loc='best')\n",
        "    plt.show()\n",
        "  \n",
        "plot_model_history(history)"
      ],
      "execution_count": null,
      "outputs": []
    },
    {
      "cell_type": "code",
      "metadata": {
        "id": "924OWXiw9r5j"
      },
      "source": [
        "# Run the model on the test dataset\n",
        "model.evaluate(X_test, y_test)"
      ],
      "execution_count": null,
      "outputs": []
    },
    {
      "cell_type": "code",
      "metadata": {
        "id": "xmoSgERd9tLt"
      },
      "source": [
        "def plot_confusion_matrix(cm, classes,\n",
        "                          normalize=False,\n",
        "                          title='Confusion matrix',\n",
        "                          cmap=plt.cm.Blues):\n",
        "    \"\"\"\n",
        "    This function prints and plots the confusion matrix.\n",
        "    Normalization can be applied by setting `normalize=True`.\n",
        "    \"\"\"\n",
        "    plt.imshow(cm, interpolation='nearest', cmap=cmap)\n",
        "    plt.title(title)\n",
        "    plt.colorbar()\n",
        "    tick_marks = np.arange(len(classes))\n",
        "    plt.xticks(tick_marks, classes, rotation=45)\n",
        "    plt.yticks(tick_marks, classes)\n",
        "\n",
        "    if normalize:\n",
        "        cm = cm.astype('float') / cm.sum(axis=1)[:, np.newaxis]\n",
        "\n",
        "    thresh = cm.max() / 2.\n",
        "    for i, j in itertools.product(range(cm.shape[0]), range(cm.shape[1])):\n",
        "        plt.text(j, i, cm[i, j],\n",
        "                 horizontalalignment=\"center\",\n",
        "                 color=\"white\" if cm[i, j] > thresh else \"black\")\n",
        "\n",
        "    plt.tight_layout()\n",
        "    plt.ylabel('True label')\n",
        "    plt.xlabel('Predicted label')"
      ],
      "execution_count": null,
      "outputs": []
    },
    {
      "cell_type": "code",
      "metadata": {
        "id": "xIukZz2ddfl_"
      },
      "source": [
        "mythreshold=0.089938596\n",
        "from sklearn.metrics import confusion_matrix\n",
        "\n",
        "y_pred = (model.predict(X_test)>= mythreshold).astype(int)\n",
        "cm=confusion_matrix(y_test, y_pred)  \n",
        "plot_confusion_matrix(cm, classes = range(2))\n",
        "\n"
      ],
      "execution_count": null,
      "outputs": []
    },
    {
      "cell_type": "code",
      "metadata": {
        "colab": {
          "base_uri": "https://localhost:8080/",
          "height": 346
        },
        "id": "7QEdmPMB9uOt",
        "outputId": "daadc767-d4a0-4b31-cc7c-69b8e483eac8"
      },
      "source": [
        "from sklearn.metrics import roc_curve\n",
        "y_preds = model.predict(X_test).ravel()\n",
        "\n",
        "fpr, tpr, thresholds = roc_curve(y_test, y_preds)\n",
        "plt.figure(1)\n",
        "plt.plot([0, 1], [0, 1], 'y--')\n",
        "plt.plot(fpr, tpr, marker='.')\n",
        "plt.xlabel('False positive rate')\n",
        "plt.ylabel('True positive rate')\n",
        "plt.title('ROC curve')\n",
        "plt.show()\n",
        "\n",
        "import pandas as pd\n",
        "i = np.arange(len(tpr)) \n",
        "roc = pd.DataFrame({'tf' : pd.Series(tpr-(1-fpr), index=i), 'thresholds' : pd.Series(thresholds, index=i)})\n",
        "ideal_roc_thresh = roc.iloc[(roc.tf-0).abs().argsort()[:1]]  #Locate the point where the value is close to 0\n",
        "print(\"Ideal threshold is: \", ideal_roc_thresh['thresholds']) \n",
        "\n",
        "\n",
        "from sklearn.metrics import auc\n",
        "auc_value = auc(fpr, tpr)\n",
        "print(\"Area under curve, AUC = \", auc_value)"
      ],
      "execution_count": null,
      "outputs": [
        {
          "output_type": "display_data",
          "data": {
            "image/png": "[encoded data removed]",
            "text/plain": [
              "<Figure size 432x288 with 1 Axes>"
            ]
          },
          "metadata": {
            "tags": [],
            "needs_background": "light"
          }
        },
        {
          "output_type": "stream",
          "text": [
            "Ideal threshold is:  124    0.038283\n",
            "Name: thresholds, dtype: float32\n",
            "Area under curve, AUC =  0.9059069075075661\n"
          ],
          "name": "stdout"
        }
      ]
    },
    {
      "cell_type": "code",
      "metadata": {
        "colab": {
          "base_uri": "https://localhost:8080/"
        },
        "id": "e1PWTgaaVxPF",
        "outputId": "3d39a19e-dab1-4132-b20c-91b5c168c7f9"
      },
      "source": [
        "def Find_Optimal_Cutoff(target, predicted):\n",
        "    fpr, tpr, threshold = roc_curve(target, predicted)\n",
        "    i = np.arange(len(tpr)) \n",
        "    roc = pd.DataFrame({'tf' : pd.Series(tpr-(1-fpr), index=i), 'threshold' : pd.Series(threshold, index=i)})\n",
        "    roc_t = roc.iloc[(roc.tf-0).abs().argsort()[:1]]\n",
        "\n",
        "    return list(roc_t['threshold']) \n",
        "\n",
        "threshold = Find_Optimal_Cutoff(y_test, y_preds)\n",
        "print(threshold)"
      ],
      "execution_count": null,
      "outputs": [
        {
          "output_type": "stream",
          "text": [
            "[0.03828272223472595]\n"
          ],
          "name": "stdout"
        }
      ]
    },
    {
      "cell_type": "code",
      "metadata": {
        "id": "P1HzqAAQ9vWU"
      },
      "source": [
        "from sklearn.metrics import precision_score\n",
        "from sklearn.metrics import accuracy_score\n",
        "from sklearn.metrics import recall_score\n",
        "\n",
        "Accuracy = accuracy_score(y_test,y_pred)\n",
        "Precision = precision_score(y_test,y_pred)\n",
        "Recall = recall_score(y_test,y_pred)\n",
        "\n",
        "\n",
        "print('Accuracy:' + str(Accuracy))\n",
        "print('Precision (PPV):' + str(Precision))\n",
        "print('Recall (Sensitivity):' + str(Recall))\n",
        "print('')\n",
        "print('')\n",
        "\n",
        "\n",
        "from sklearn.metrics import classification_report\n",
        "\n",
        "\n",
        "print('Classification report')\n",
        "print('')\n",
        "print(classification_report(y_test,y_pred))"
      ],
      "execution_count": null,
      "outputs": []
    },
    {
      "cell_type": "code",
      "metadata": {
        "id": "DO-aSfIL9wdF"
      },
      "source": [
        "num= 1  #Select the index of image to be loaded for testing\n",
        "img = X_test[num]\n",
        "plt.imshow(img)\n",
        "input_img = np.expand_dims(img, axis=0) #Expand dims so the input is (num images, x, y, c)\n",
        "print(\"The prediction for this image is: \", model.predict(input_img))\n",
        "print(\"This was labeled as: \",(model.predict(input_img)>= mythreshold).astype(int))\n",
        "print(\"The actual label for this image is: \", np.array(y_test)[num])"
      ],
      "execution_count": null,
      "outputs": []
    }
  ]
}
